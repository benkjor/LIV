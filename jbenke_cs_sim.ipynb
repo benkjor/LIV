{
 "cells": [
  {
   "cell_type": "code",
   "execution_count": 1,
   "id": "d854ee8b",
   "metadata": {},
   "outputs": [],
   "source": [
    "import matplotlib.pyplot as plt\n",
    "import numpy as np\n",
    "import scipy as sp\n",
    "import uproot\n",
    "import os\n"
   ]
  },
  {
   "cell_type": "code",
   "execution_count": null,
   "id": "3f9f2044",
   "metadata": {},
   "outputs": [],
   "source": []
  },
  {
   "cell_type": "code",
   "execution_count": 2,
   "id": "4d761ace",
   "metadata": {},
   "outputs": [],
   "source": [
    "# file_in = '/scratch/submit/cms/wmass/NanoAOD/DYJetsToMuMu_H2ErratumFix_PDFExt_TuneCP5_13TeV-powhegMiNNLO-pythia8-photos/NanoV9MCPostVFP_TrackFitV722_NanoProdv6/240509_041233/'\n",
    "\n",
    "file_in = '/ceph/submit/data/user/j/jbenke/'\n",
    "\n",
    "### only use if iterating through many files ###\n",
    "\n",
    "all_data_files = []\n",
    "for path in os.listdir(file_in):\n",
    "    if os.path.isfile(os.path.join(file_in, path)):\n",
    "        all_data_files.append(os.path.join(file_in, path))\n",
    "\n",
    "## if just using a single file ###\n",
    "file_name = 'NanoV9MCPostVFP_1.root'\n",
    "all_data_files = [file_in + file_name]\n"
   ]
  },
  {
   "cell_type": "code",
   "execution_count": 4,
   "id": "8b4fd129",
   "metadata": {},
   "outputs": [
    {
     "name": "stdout",
     "output_type": "stream",
     "text": [
      "<TTree 'ParameterSets' (1 branches) at 0x7ff76eee0280>\n"
     ]
    }
   ],
   "source": [
    "for loc in all_data_files:\n",
    "    with uproot.open(loc) as file:\n",
    "        ### include somethihg here\n",
    "        print(file['ParameterSets;1'])"
   ]
  },
  {
   "cell_type": "code",
   "execution_count": null,
   "id": "7e776b91",
   "metadata": {},
   "outputs": [],
   "source": []
  }
 ],
 "metadata": {
  "kernelspec": {
   "display_name": "liv-sme",
   "language": "python",
   "name": "python3"
  },
  "language_info": {
   "codemirror_mode": {
    "name": "ipython",
    "version": 3
   },
   "file_extension": ".py",
   "mimetype": "text/x-python",
   "name": "python",
   "nbconvert_exporter": "python",
   "pygments_lexer": "ipython3",
   "version": "3.8.20"
  }
 },
 "nbformat": 4,
 "nbformat_minor": 5
}
